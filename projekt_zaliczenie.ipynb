{
 "cells": [
  {
   "cell_type": "code",
   "execution_count": 1,
   "metadata": {},
   "outputs": [],
   "source": [
    "from CsvHelper import CsvHelper\n",
    "\n",
    "csv_helper = CsvHelper()"
   ]
  },
  {
   "cell_type": "code",
   "execution_count": 9,
   "metadata": {},
   "outputs": [
    {
     "name": "stdout",
     "output_type": "stream",
     "text": [
      "['fixed acidity', 'volatile acidity', 'citric acid', 'residual sugar', 'chlorides', 'free sulfur dioxide', 'total sulfur dioxide', 'density', 'pH', 'sulphates', 'alcohol', 'quality']\n",
      "Przykladowe dane\n",
      "['7', '0.27', '0.36', '20.7', '0.045', '45', '170', '1.001', '3', '0.45', '8.8', '6']\n",
      "['6.3', '0.3', '0.34', '1.6', '0.049', '14', '132', '0.994', '3.3', '0.49', '9.5', '6']\n",
      "['8.1', '0.28', '0.4', '6.9', '0.05', '30', '97', '0.9951', '3.26', '0.44', '10.1', '6']\n",
      "['7.2', '0.23', '0.32', '8.5', '0.058', '47', '186', '0.9956', '3.19', '0.4', '9.9', '6']\n",
      "['7.2', '0.23', '0.32', '8.5', '0.058', '47', '186', '0.9956', '3.19', '0.4', '9.9', '6']\n"
     ]
    }
   ],
   "source": [
    "#zadanie 1\n",
    "\n",
    "plik_csv = 'winequality-white.csv'\n",
    "dane, etykiety_kolumn = csv_helper.wczytaj_dane(plik_csv, etykiety = True)\n",
    "\n",
    "print(etykiety_kolumn)\n",
    "\n",
    "print('Przykladowe dane')\n",
    "for wiersz in dane[:5]:\n",
    "    print(wiersz)"
   ]
  },
  {
   "cell_type": "code",
   "execution_count": 13,
   "metadata": {},
   "outputs": [
    {
     "name": "stdout",
     "output_type": "stream",
     "text": [
      "Etykiety w pliku csv:\n",
      "fixed acidity\n",
      "volatile acidity\n",
      "citric acid\n",
      "residual sugar\n",
      "chlorides\n",
      "free sulfur dioxide\n",
      "total sulfur dioxide\n",
      "density\n",
      "pH\n",
      "sulphates\n",
      "alcohol\n",
      "quality\n"
     ]
    }
   ],
   "source": [
    "#zadanie 2\n",
    "\n",
    "csv_helper.wypisz_etykiety(plik_csv='winequality-white.csv')"
   ]
  },
  {
   "cell_type": "code",
   "execution_count": 14,
   "metadata": {},
   "outputs": [
    {
     "name": "stdout",
     "output_type": "stream",
     "text": [
      "['8.1', '0.28', '0.4', '6.9', '0.05', '30', '97', '0.9951', '3.26', '0.44', '10.1', '6']\n",
      "['6.2', '0.32', '0.16', '7', '0.045', '30', '136', '0.9949', '3.18', '0.47', '9.6', '6']\n",
      "['7', '0.27', '0.36', '20.7', '0.045', '45', '170', '1.001', '3', '0.45', '8.8', '6']\n"
     ]
    }
   ],
   "source": [
    "#zadanie 3\n",
    "\n",
    "csv_helper.wypisz_dane(dane, 5, 8)"
   ]
  },
  {
   "cell_type": "code",
   "execution_count": 15,
   "metadata": {},
   "outputs": [
    {
     "name": "stdout",
     "output_type": "stream",
     "text": [
      "Procent danych treningowych: 69.98775010208249%\n",
      "Procent danych testowych: 19.987750102082483%\n",
      "Procent danych walidacyjnych: 10.024499795835034%\n"
     ]
    }
   ],
   "source": [
    "#zadanie 4  \n",
    "\n",
    "dane_treningowe, dane_testowe, dane_walidacyjne = csv_helper.podziel_dane(dane, 0.7, 0.2)\n",
    "\n",
    "print(f\"Procent danych treningowych: {len(dane_treningowe) / len(dane) * 100}%\")\n",
    "print(f\"Procent danych testowych: {len(dane_testowe) / len(dane) * 100}%\")\n",
    "print(f\"Procent danych walidacyjnych: {len(dane_walidacyjne) / len(dane) * 100}%\")"
   ]
  },
  {
   "cell_type": "code",
   "execution_count": 16,
   "metadata": {},
   "outputs": [
    {
     "data": {
      "text/plain": [
       "{'0': 0,\n",
       " '1': 0,\n",
       " '2': 0,\n",
       " '3': 20,\n",
       " '4': 163,\n",
       " '5': 1457,\n",
       " '6': 2198,\n",
       " '7': 880,\n",
       " '8': 175,\n",
       " '9': 5,\n",
       " '10': 0}"
      ]
     },
     "execution_count": 16,
     "metadata": {},
     "output_type": "execute_result"
    }
   ],
   "source": [
    "#zadanie 5\n",
    "\n",
    "csv_helper.wypisz_liczebnosc_klas(dane)"
   ]
  },
  {
   "cell_type": "code",
   "execution_count": 7,
   "metadata": {},
   "outputs": [
    {
     "name": "stdout",
     "output_type": "stream",
     "text": [
      "['8.5', '0.26', '0.21', '16.2', '0.074', '41', '197', '0.998', '3.02', '0.5', '9.8', '3']\n",
      "['5.8', '0.24', '0.44', '3.5', '0.029', '5', '109', '0.9913', '3.53', '0.43', '11.7', '3']\n",
      "['9.1', '0.59', '0.38', '1.6', '0.066', '34', '182', '0.9968', '3.23', '0.38', '8.5', '3']\n",
      "['7.1', '0.32', '0.32', '11', '0.038', '16', '66', '0.9937', '3.24', '0.4', '11.5', '3']\n",
      "['6.9', '0.39', '0.4', '4.6', '0.022', '5', '19', '0.9915', '3.31', '0.37', '12.6', '3']\n",
      "['10.3', '0.17', '0.47', '1.4', '0.037', '5', '33', '0.9939', '2.89', '0.28', '9.6', '3']\n",
      "['7.9', '0.64', '0.46', '10.6', '0.244', '33', '227', '0.9983', '2.87', '0.74', '9.1', '3']\n",
      "['8.3', '0.33', '0.42', '1.15', '0.033', '18', '96', '0.9911', '3.2', '0.32', '12.4', '3']\n",
      "['8.6', '0.55', '0.35', '15.55', '0.057', '35.5', '366.5', '1.0001', '3.04', '0.63', '11', '3']\n",
      "['7.5', '0.32', '0.24', '4.6', '0.053', '8', '134', '0.9958', '3.14', '0.5', '9.1', '3']\n",
      "['6.7', '0.25', '0.26', '1.55', '0.041', '118.5', '216', '0.9949', '3.55', '0.63', '9.4', '3']\n",
      "['7.1', '0.49', '0.22', '2', '0.047', '146.5', '307.5', '0.9924', '3.24', '0.37', '11', '3']\n",
      "['11.8', '0.23', '0.38', '11.1', '0.034', '15', '123', '0.9997', '2.93', '0.55', '9.7', '3']\n",
      "['7.6', '0.48', '0.37', '1.2', '0.034', '5', '57', '0.99256', '3.05', '0.54', '10.4', '3']\n",
      "['6.1', '0.2', '0.34', '9.5', '0.041', '38', '201', '0.995', '3.14', '0.44', '10.1', '3']\n",
      "['4.2', '0.215', '0.23', '5.1', '0.041', '64', '157', '0.99688', '3.42', '0.44', '8.0', '3']\n",
      "['9.4', '0.24', '0.29', '8.5', '0.037', '124', '208', '0.99395', '2.9', '0.38', '11', '3']\n",
      "['6.2', '0.23', '0.35', '0.7', '0.051', '24', '111', '0.9916', '3.37', '0.43', '11', '3']\n",
      "['6.8', '0.26', '0.34', '15.1', '0.06', '42', '162', '0.99705', '3.24', '0.52', '10.5', '3']\n",
      "['6.1', '0.26', '0.25', '2.9', '0.047', '289', '440', '0.99314', '3.44', '0.64', '10.5', '3']\n"
     ]
    }
   ],
   "source": [
    "#zadanie 6\n",
    "\n",
    "dane_dla_klasy_6 = csv_helper.wypisz_dane_dla_klasy(dane, quality='3')  \n",
    "\n",
    "for w in dane_dla_klasy_6:\n",
    "    print(w)"
   ]
  },
  {
   "cell_type": "code",
   "execution_count": 8,
   "metadata": {},
   "outputs": [],
   "source": [
    "#zadanie 7\n",
    "\n",
    "csv_helper.zapisz_do_pliku('dane_dla_klasy_6.csv', dane_dla_klasy_6, etykiety_kolumn)\n",
    "csv_helper.zapisz_do_pliku('dane_dla_klasy_6_bez_etykiet.csv', dane_dla_klasy_6)"
   ]
  }
 ],
 "metadata": {
  "kernelspec": {
   "display_name": "Python 3",
   "language": "python",
   "name": "python3"
  },
  "language_info": {
   "codemirror_mode": {
    "name": "ipython",
    "version": 3
   },
   "file_extension": ".py",
   "mimetype": "text/x-python",
   "name": "python",
   "nbconvert_exporter": "python",
   "pygments_lexer": "ipython3",
   "version": "3.11.6"
  }
 },
 "nbformat": 4,
 "nbformat_minor": 2
}
