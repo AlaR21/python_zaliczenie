{
 "cells": [
  {
   "cell_type": "code",
   "execution_count": null,
   "metadata": {},
   "outputs": [],
   "source": [
    "#zadanie 1\n",
    "\n",
    "import csv\n",
    "\n",
    "plik_csv = 'winequality-white.csv'"
   ]
  },
  {
   "cell_type": "code",
   "execution_count": null,
   "metadata": {},
   "outputs": [],
   "source": [
    "#zadanie 2\n",
    "\n",
    "def wczytaj_dane(plik_csv, etykiety = True):\n",
    "    dane = []\n",
    "    etykiety_kolumn = []\n",
    "\n",
    "    with open(plik_csv, 'r') as plik:\n",
    "        for linia in plik:\n",
    "            wiersz = linia.strip().split(';')\n",
    "\n",
    "            if etykiety:\n",
    "                etykiety_kolumn = wiersz\n",
    "                etykiety = False\n",
    "            else:\n",
    "                dane.append(wiersz)\n",
    "\n",
    "    return dane, etykiety_kolumn\n",
    "\n",
    "def wypisz_etykiety(plik_csv):\n",
    "    with open(plik_csv, 'r') as plik:\n",
    "        skladniki = csv.reader(plik)\n",
    "        etykiety = next(skladniki, None)\n",
    "\n",
    "    if etykiety:\n",
    "        print('Etykiety w pliku csv:')\n",
    "    for etykieta in etykiety:\n",
    "        print(etykieta)\n",
    "    else:\n",
    "        print('Brak etykiet w danym datasecie')\n",
    "\n",
    "wypisz_etykiety(plik_csv)"
   ]
  },
  {
   "cell_type": "code",
   "execution_count": null,
   "metadata": {},
   "outputs": [],
   "source": [
    "#zadanie 3\n",
    "\n",
    "def wypisz_dane(plik_csv, start=None, koniec=None):\n",
    "    with open(plik_csv, 'r') as f:\n",
    "        lines = f.readlines()\n",
    "        if start is None and koniec is None:\n",
    "            for line in lines:\n",
    "                print(line.strip())\n",
    "        else:\n",
    "            for line in lines[start:koniec]:\n",
    "                print(line.strip())\n",
    "\n",
    "wypisz_dane(plik_csv)"
   ]
  },
  {
   "cell_type": "code",
   "execution_count": null,
   "metadata": {},
   "outputs": [],
   "source": [
    "#zadanie 4\n",
    "\n",
    "def podziel_dane(dane, procent_treningowy, procent_testowy):\n",
    "    rozmiar = len(dane)\n",
    "    rozmiar_treningowy = int(rozmiar * procent_treningowy)\n",
    "    rozmiar_testowy = int(rozmiar * procent_testowy)\n",
    "\n",
    "    dane_treningowe = dane[:rozmiar_treningowy]\n",
    "    dane_testowe = dane[rozmiar_treningowy : rozmiar_treningowy + rozmiar_testowy]\n",
    "    dane_walidacyjne = dane[rozmiar_treningowy + rozmiar_testowy:]\n",
    "\n",
    "    return dane_treningowe, dane_testowe, dane_walidacyjne\n",
    "\n",
    "dane = list(range(100))\n",
    "dane_treningowe, dane_testowe, dane_walidacyjne = podziel_dane(dane, 0.5, 0.1)\n",
    "\n",
    "print(f\"Procent danych treningowych: {len(dane_treningowe) / len(dane) * 100}%\")\n",
    "print(f\"Procent danych testowych: {len(dane_testowe) / len(dane) * 100}%\")\n",
    "print(f\"Procent danych walidacyjnych: {len(dane_walidacyjne) / len(dane) * 100}%\")"
   ]
  }
 ],
 "metadata": {
  "kernelspec": {
   "display_name": "Python 3",
   "language": "python",
   "name": "python3"
  },
  "language_info": {
   "codemirror_mode": {
    "name": "ipython",
    "version": 3
   },
   "file_extension": ".py",
   "mimetype": "text/x-python",
   "name": "python",
   "nbconvert_exporter": "python",
   "pygments_lexer": "ipython3",
   "version": "3.11.6"
  }
 },
 "nbformat": 4,
 "nbformat_minor": 2
}
